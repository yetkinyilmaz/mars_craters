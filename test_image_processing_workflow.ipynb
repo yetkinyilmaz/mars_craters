{
 "cells": [
  {
   "cell_type": "code",
   "execution_count": 1,
   "metadata": {
    "collapsed": true
   },
   "outputs": [],
   "source": [
    "import os"
   ]
  },
  {
   "cell_type": "code",
   "execution_count": 2,
   "metadata": {},
   "outputs": [],
   "source": [
    "import problem\n",
    "import workflow.local_workflow as local_workflow\n",
    "from workflow.scores import score_craters_on_patch"
   ]
  },
  {
   "cell_type": "code",
   "execution_count": 3,
   "metadata": {},
   "outputs": [],
   "source": [
    "workflow = local_workflow.ObjectDetector(\n",
    "    test_batch_size=16,\n",
    "    chunk_size=50,\n",
    "    n_jobs=8)"
   ]
  },
  {
   "cell_type": "code",
   "execution_count": 4,
   "metadata": {
    "collapsed": true
   },
   "outputs": [],
   "source": [
    "submission = 'image_processing'"
   ]
  },
  {
   "cell_type": "code",
   "execution_count": 5,
   "metadata": {},
   "outputs": [],
   "source": [
    "module_path = os.path.join('.', 'submissions', submission)"
   ]
  },
  {
   "cell_type": "code",
   "execution_count": 6,
   "metadata": {
    "collapsed": true
   },
   "outputs": [],
   "source": [
    "X_train, y_train = problem.get_train_data(path='.')\n",
    "X_test, y_test = problem.get_test_data(path='.')"
   ]
  },
  {
   "cell_type": "code",
   "execution_count": 7,
   "metadata": {},
   "outputs": [],
   "source": [
    "trained_workflow = workflow.train_submission(\n",
    "            module_path, X_train, y_train, train_is=None)"
   ]
  },
  {
   "cell_type": "code",
   "execution_count": 8,
   "metadata": {},
   "outputs": [
    {
     "name": "stdout",
     "output_type": "stream",
     "text": [
      "Automatic pdb calling has been turned ON\n"
     ]
    }
   ],
   "source": [
    "%pdb"
   ]
  },
  {
   "cell_type": "code",
   "execution_count": 9,
   "metadata": {
    "scrolled": false
   },
   "outputs": [
    {
     "name": "stdout",
     "output_type": "stream",
     "text": [
      "Max val:  0.0\n",
      "Max val:  0.0\n",
      "Max val:  0.0\n",
      "Max val:  0.4375\n",
      "Max val:  0.4375\n",
      "Max val:  0.515625\n",
      "Max val:  0.515625\n",
      "Max val:  0.4625\n",
      "Max val:  0.46875\n",
      "Max val:  0.4375\n",
      "Max val:  0.375\n",
      "Max val:  0.486111111111\n",
      "Max val:  0.46875\n",
      "Max val:  0.453125\n",
      "Max val:  0.421875\n",
      "Max val:  0.402777777778\n",
      "Max val:  0.347222222222\n",
      "Max val:  0.375\n",
      "Max val:  0.296875\n",
      "Max val:  0.375\n",
      "Max val:  0.40625\n",
      "Max val:  0.390625\n",
      "Max val:  0.359375\n",
      "Max val:  0.375\n",
      "Max val:  0.265625\n",
      "Max val:  0.203125\n",
      "Max val:  0.15625\n",
      "Max val:  0.0\n",
      "Max val:  0.0\n",
      "Max val:  0.0\n",
      "Max val:  0.0\n",
      "Max val:  0.0\n",
      "Max val:  0.0\n",
      "Max val:  0.0\n",
      "Max val:  0.0\n",
      "Max val:  0.0\n",
      "Max val:  0.0\n",
      "Max val:  0.0\n",
      "Max val:  0.0\n",
      "Max val:  0.0\n",
      "Max val:  0.0\n",
      "Max val:  0.0\n",
      "Max val:  0.0\n",
      "Max val:  0.0\n",
      "Max val:  0.0\n",
      "Max val:  0.0\n",
      "Max val:  0.0\n",
      "Max val:  0.0\n",
      "Max val:  0.0\n",
      "Max val:  0.0\n",
      "Max val:  0.0\n",
      "Max val:  0.15625\n",
      "Max val:  0.15625\n",
      "Max val:  0.234375\n",
      "Max val:  0.3\n",
      "Max val:  0.458333333333\n",
      "Max val:  0.359375\n",
      "Max val:  0.325\n",
      "Max val:  0.15625\n",
      "Max val:  0.472222222222\n",
      "Max val:  0.5\n",
      "Max val:  0.3125\n",
      "Max val:  0.28125\n",
      "Max val:  0.4375\n",
      "Max val:  0.329545454545\n",
      "Max val:  0.40625\n",
      "Max val:  0.363636363636\n",
      "Max val:  0.546875\n",
      "Max val:  0.390625\n",
      "Max val:  0.203125\n",
      "Max val:  0.359375\n",
      "Max val:  0.390625\n",
      "Max val:  0.375\n",
      "Max val:  0.34375\n",
      "Max val:  0.361111111111\n",
      "Max val:  0.0\n",
      "Max val:  0.0\n",
      "Max val:  0.0\n",
      "Max val:  0.0\n",
      "Max val:  0.0\n",
      "Max val:  0.0\n",
      "Max val:  0.390625\n",
      "Max val:  0.425\n",
      "Max val:  0.421875\n",
      "Max val:  0.5\n",
      "Max val:  0.458333333333\n",
      "Max val:  0.477272727273\n",
      "Max val:  0.458333333333\n",
      "Max val:  0.527777777778\n",
      "Max val:  0.416666666667\n",
      "Max val:  0.546875\n",
      "Max val:  0.453125\n",
      "Max val:  0.430555555556\n",
      "Max val:  0.5\n",
      "Max val:  0.453125\n",
      "Max val:  0.421875\n",
      "Max val:  0.3875\n",
      "Max val:  0.430555555556\n",
      "Max val:  0.609375\n",
      "Max val:  0.4\n"
     ]
    }
   ],
   "source": [
    "y_pred_train = workflow.test_submission(trained_workflow, X_train[:100])"
   ]
  },
  {
   "cell_type": "code",
   "execution_count": 10,
   "metadata": {},
   "outputs": [
    {
     "data": {
      "text/plain": [
       "[[],\n",
       " [],\n",
       " [],\n",
       " [(166, 56, 10)],\n",
       " [(127, 12, 10), (131, 54, 11), (65, 166, 10)],\n",
       " [(197, 173, 10),\n",
       "  (127, 141, 10),\n",
       "  (126, 140, 11),\n",
       "  (196, 173, 11),\n",
       "  (199, 174, 10)],\n",
       " [(23, 173, 10),\n",
       "  (153, 139, 10),\n",
       "  (22, 173, 11),\n",
       "  (154, 147, 10),\n",
       "  (25, 174, 10),\n",
       "  (115, 94, 11)],\n",
       " [(54, 58, 13),\n",
       "  (106, 183, 13),\n",
       "  (52, 142, 10),\n",
       "  (106, 75, 13),\n",
       "  (60, 66, 10),\n",
       "  (190, 94, 10),\n",
       "  (54, 57, 12),\n",
       "  (98, 98, 12),\n",
       "  (105, 183, 12)],\n",
       " [(85, 94, 10),\n",
       "  (121, 67, 11),\n",
       "  (123, 126, 10),\n",
       "  (123, 128, 10),\n",
       "  (101, 127, 12),\n",
       "  (85, 88, 15),\n",
       "  (167, 74, 10),\n",
       "  (189, 167, 10),\n",
       "  (196, 170, 10),\n",
       "  (90, 128, 12),\n",
       "  (85, 93, 11)],\n",
       " [(136, 79, 10),\n",
       "  (108, 108, 10),\n",
       "  (57, 171, 10),\n",
       "  (61, 181, 10),\n",
       "  (22, 170, 10),\n",
       "  (64, 173, 10),\n",
       "  (15, 181, 10),\n",
       "  (114, 133, 12),\n",
       "  (100, 116, 11)],\n",
       " [],\n",
       " [(70, 182, 11), (69, 183, 10), (54, 185, 10), (55, 186, 12)],\n",
       " [(182, 182, 10)],\n",
       " [(187, 184, 10)],\n",
       " [(13, 184, 10)],\n",
       " [(189, 152, 11)],\n",
       " [],\n",
       " [],\n",
       " [],\n",
       " [],\n",
       " [(159, 194, 10)],\n",
       " [],\n",
       " [],\n",
       " [],\n",
       " [],\n",
       " [],\n",
       " [],\n",
       " [],\n",
       " [],\n",
       " [],\n",
       " [],\n",
       " [],\n",
       " [],\n",
       " [],\n",
       " [],\n",
       " [],\n",
       " [],\n",
       " [],\n",
       " [],\n",
       " [],\n",
       " [],\n",
       " [],\n",
       " [],\n",
       " [],\n",
       " [],\n",
       " [],\n",
       " [],\n",
       " [],\n",
       " [],\n",
       " [],\n",
       " [],\n",
       " [],\n",
       " [],\n",
       " [],\n",
       " [],\n",
       " [(145, 208, 11)],\n",
       " [],\n",
       " [],\n",
       " [],\n",
       " [(203, 211, 12), (204, 209, 10)],\n",
       " [(29, 211, 12), (97, 190, 10), (30, 209, 10)],\n",
       " [],\n",
       " [],\n",
       " [(182, 203, 10), (129, 198, 10)],\n",
       " [],\n",
       " [(167, 115, 10), (94, 195, 12)],\n",
       " [],\n",
       " [(58, 131, 10), (57, 131, 11)],\n",
       " [],\n",
       " [],\n",
       " [],\n",
       " [],\n",
       " [],\n",
       " [],\n",
       " [],\n",
       " [],\n",
       " [],\n",
       " [],\n",
       " [],\n",
       " [],\n",
       " [],\n",
       " [],\n",
       " [(176, 164, 13), (175, 162, 12), (154, 169, 10)],\n",
       " [(44, 134, 10)],\n",
       " [(134, 130, 10), (149, 57, 12), (160, 83, 11), (172, 53, 12), (170, 75, 11)],\n",
       " [(203, 157, 11),\n",
       "  (180, 166, 10),\n",
       "  (127, 162, 10),\n",
       "  (201, 178, 10),\n",
       "  (73, 129, 12),\n",
       "  (191, 153, 12),\n",
       "  (204, 158, 12)],\n",
       " [(41, 84, 14),\n",
       "  (29, 157, 11),\n",
       "  (97, 69, 12),\n",
       "  (30, 158, 12),\n",
       "  (120, 132, 10),\n",
       "  (84, 68, 11),\n",
       "  (45, 83, 11),\n",
       "  (118, 48, 10),\n",
       "  (202, 52, 10),\n",
       "  (104, 64, 10),\n",
       "  (120, 134, 10),\n",
       "  (27, 178, 10),\n",
       "  (24, 165, 12),\n",
       "  (30, 160, 13)],\n",
       " [(199, 187, 11),\n",
       "  (87, 39, 10),\n",
       "  (28, 52, 10),\n",
       "  (64, 71, 10),\n",
       "  (40, 79, 10),\n",
       "  (147, 88, 12)],\n",
       " [(78, 60, 11), (79, 60, 10), (25, 187, 11), (76, 61, 10), (153, 190, 12)],\n",
       " [(71, 6, 12), (77, 169, 10), (79, 100, 11)],\n",
       " [(65, 99, 10), (120, 84, 10), (121, 85, 11), (182, 8, 10)],\n",
       " [(187, 10, 10), (66, 154, 14), (63, 150, 10)],\n",
       " [(198, 176, 12)],\n",
       " [(180, 210, 10),\n",
       "  (77, 152, 11),\n",
       "  (143, 110, 10),\n",
       "  (84, 131, 10),\n",
       "  (132, 196, 10),\n",
       "  (24, 176, 12),\n",
       "  (126, 181, 10),\n",
       "  (144, 111, 11),\n",
       "  (73, 152, 15)],\n",
       " [(60, 68, 10), (116, 90, 11), (64, 103, 10), (114, 79, 12), (59, 68, 11)],\n",
       " [(67, 40, 10), (57, 47, 10), (91, 30, 17)],\n",
       " [],\n",
       " [(159, 55, 12), (158, 57, 10)],\n",
       " [(66, 139, 10), (70, 138, 14), (164, 185, 12), (159, 20, 10)],\n",
       " [(167, 63, 13)]]"
      ]
     },
     "execution_count": 10,
     "metadata": {},
     "output_type": "execute_result"
    }
   ],
   "source": [
    "y_pred_train"
   ]
  },
  {
   "cell_type": "code",
   "execution_count": 20,
   "metadata": {},
   "outputs": [
    {
     "data": {
      "text/plain": [
       "[1,\n",
       " 1,\n",
       " 1,\n",
       " 0,\n",
       " 0,\n",
       " 0,\n",
       " 0.0862824514051308,\n",
       " 0,\n",
       " 0.0,\n",
       " 0.0,\n",
       " 1,\n",
       " 0.0,\n",
       " 0,\n",
       " 0,\n",
       " 0,\n",
       " 0.0,\n",
       " 1,\n",
       " 1,\n",
       " 1,\n",
       " 1,\n",
       " 0,\n",
       " 1,\n",
       " 1,\n",
       " 1,\n",
       " 1,\n",
       " 1,\n",
       " 1,\n",
       " 1,\n",
       " 1,\n",
       " 1,\n",
       " 1,\n",
       " 1,\n",
       " 1,\n",
       " 1,\n",
       " 1,\n",
       " 1,\n",
       " 1,\n",
       " 1,\n",
       " 1,\n",
       " 1,\n",
       " 1,\n",
       " 1,\n",
       " 1,\n",
       " 1,\n",
       " 1,\n",
       " 1,\n",
       " 1,\n",
       " 1,\n",
       " 1,\n",
       " 1,\n",
       " 1,\n",
       " 1,\n",
       " 1,\n",
       " 1,\n",
       " 1,\n",
       " 0,\n",
       " 1,\n",
       " 1,\n",
       " 1,\n",
       " 0.48387046762766994]"
      ]
     },
     "execution_count": 20,
     "metadata": {},
     "output_type": "execute_result"
    }
   ],
   "source": [
    "[score_craters_on_patch(t, p) for t, p in zip(y_true, y_pred_train)]"
   ]
  },
  {
   "cell_type": "code",
   "execution_count": 33,
   "metadata": {},
   "outputs": [
    {
     "data": {
      "text/plain": [
       "0.75950254865054667"
      ]
     },
     "execution_count": 33,
     "metadata": {},
     "output_type": "execute_result"
    }
   ],
   "source": [
    "np.mean([score_craters_on_patch(t, p) for t, p in zip(y_true, y_pred_train[:60])])"
   ]
  },
  {
   "cell_type": "code",
   "execution_count": 22,
   "metadata": {},
   "outputs": [],
   "source": [
    "from workflow.predictions import Predictions\n",
    "from workflow.scores import Ospa"
   ]
  },
  {
   "cell_type": "code",
   "execution_count": 30,
   "metadata": {},
   "outputs": [],
   "source": [
    "predictions_test = problem.Predictions(y_pred=y_pred_train[:60])\n",
    "ground_truth_test = problem.Predictions(y_true=y_true)"
   ]
  },
  {
   "cell_type": "code",
   "execution_count": 24,
   "metadata": {},
   "outputs": [
    {
     "name": "stdout",
     "output_type": "stream",
     "text": [
      "Automatic pdb calling has been turned OFF\n"
     ]
    }
   ],
   "source": [
    "%pdb"
   ]
  },
  {
   "cell_type": "code",
   "execution_count": 31,
   "metadata": {
    "collapsed": true
   },
   "outputs": [],
   "source": [
    "score_type = Ospa()"
   ]
  },
  {
   "cell_type": "code",
   "execution_count": 28,
   "metadata": {},
   "outputs": [
    {
     "data": {
      "text/plain": [
       "100"
      ]
     },
     "execution_count": 28,
     "metadata": {},
     "output_type": "execute_result"
    }
   ],
   "source": [
    "len(y_pred_train)"
   ]
  },
  {
   "cell_type": "code",
   "execution_count": 29,
   "metadata": {},
   "outputs": [
    {
     "data": {
      "text/plain": [
       "60"
      ]
     },
     "execution_count": 29,
     "metadata": {},
     "output_type": "execute_result"
    }
   ],
   "source": [
    "len(y_true)"
   ]
  },
  {
   "cell_type": "code",
   "execution_count": 32,
   "metadata": {},
   "outputs": [
    {
     "data": {
      "text/plain": [
       "0.082054421304741443"
      ]
     },
     "execution_count": 32,
     "metadata": {},
     "output_type": "execute_result"
    }
   ],
   "source": [
    "score_type.score_function(ground_truth_test, predictions_test)"
   ]
  },
  {
   "cell_type": "code",
   "execution_count": null,
   "metadata": {
    "collapsed": true
   },
   "outputs": [],
   "source": []
  },
  {
   "cell_type": "code",
   "execution_count": null,
   "metadata": {
    "collapsed": true
   },
   "outputs": [],
   "source": []
  },
  {
   "cell_type": "code",
   "execution_count": 68,
   "metadata": {
    "collapsed": true
   },
   "outputs": [],
   "source": [
    "from skimage.draw import circle_perimeter\n",
    "from skimage import data, color"
   ]
  },
  {
   "cell_type": "code",
   "execution_count": 60,
   "metadata": {},
   "outputs": [],
   "source": [
    "img = np.zeros((224, 224))\n",
    "img = color.gray2rgb(img)\n",
    "\n",
    "for center_y, center_x, radius in p:\n",
    "    circy, circx = circle_perimeter(int(center_y), int(center_x), int(radius))\n",
    "    img[circy, circx] = (220, 20, 20)\n",
    "    \n",
    "for center_y, center_x, radius in t:\n",
    "    circy, circx = circle_perimeter(int(center_y), int(center_x), int(radius))\n",
    "    img[circy, circx] = (20, 220, 20)"
   ]
  },
  {
   "cell_type": "code",
   "execution_count": 61,
   "metadata": {
    "collapsed": true
   },
   "outputs": [],
   "source": [
    "%matplotlib inline"
   ]
  },
  {
   "cell_type": "code",
   "execution_count": 62,
   "metadata": {
    "collapsed": true
   },
   "outputs": [],
   "source": [
    "import matplotlib.pyplot as plt"
   ]
  },
  {
   "cell_type": "code",
   "execution_count": 63,
   "metadata": {},
   "outputs": [
    {
     "data": {
      "text/plain": [
       "<matplotlib.image.AxesImage at 0x7fa9b564e518>"
      ]
     },
     "execution_count": 63,
     "metadata": {},
     "output_type": "execute_result"
    },
    {
     "data": {
      "image/png": "[encoded data removed]",
      "text/plain": [
       "<matplotlib.figure.Figure at 0x7fa9b9b03c18>"
      ]
     },
     "metadata": {},
     "output_type": "display_data"
    }
   ],
   "source": [
    "plt.imshow(img)"
   ]
  },
  {
   "cell_type": "code",
   "execution_count": null,
   "metadata": {
    "collapsed": true
   },
   "outputs": [],
   "source": []
  },
  {
   "cell_type": "code",
   "execution_count": null,
   "metadata": {
    "collapsed": true
   },
   "outputs": [],
   "source": [
    "edges, peaks = self._hough_detection(X)\n",
    "        accum, cx, cy, radii = peaks\n",
    "\n",
    "        image = X\n",
    "\n",
    "        fig, ax = plt.subplots(ncols=3, nrows=1, figsize=(15, 6))\n",
    "        image2 = color.gray2rgb(image)\n",
    "        _, cx, cy, radii = peaks\n",
    "        for center_y, center_x, radius in zip(cy, cx, radii):\n",
    "            circy, circx = circle_perimeter(center_y, center_x, radius)\n",
    "            image2[circy, circx] = (220, 20, 20)\n",
    "\n",
    "        print(\"Radius of circles\", peaks[3])\n",
    "\n",
    "        ax[0].imshow(image, cmap=plt.cm.gray)\n",
    "        ax[1].imshow(edges, cmap=plt.cm.gray)\n",
    "        ax[2].imshow(image2, cmap=plt.cm.gray)\n",
    "        display(fig)\n"
   ]
  },
  {
   "cell_type": "code",
   "execution_count": null,
   "metadata": {
    "collapsed": true
   },
   "outputs": [],
   "source": []
  },
  {
   "cell_type": "code",
   "execution_count": null,
   "metadata": {
    "collapsed": true
   },
   "outputs": [],
   "source": []
  },
  {
   "cell_type": "code",
   "execution_count": null,
   "metadata": {
    "collapsed": true
   },
   "outputs": [],
   "source": []
  },
  {
   "cell_type": "code",
   "execution_count": 46,
   "metadata": {},
   "outputs": [
    {
     "name": "stdout",
     "output_type": "stream",
     "text": [
      "Automatic pdb calling has been turned OFF\n"
     ]
    }
   ],
   "source": [
    "%pdb"
   ]
  },
  {
   "cell_type": "code",
   "execution_count": null,
   "metadata": {
    "collapsed": true
   },
   "outputs": [],
   "source": []
  },
  {
   "cell_type": "code",
   "execution_count": 3,
   "metadata": {},
   "outputs": [
    {
     "ename": "TypeError",
     "evalue": "test_submission() missing 2 required positional arguments: 'trained_model' and 'X'",
     "output_type": "error",
     "traceback": [
      "\u001b[0;31m---------------------------------------------------------------------------\u001b[0m",
      "\u001b[0;31mTypeError\u001b[0m                                 Traceback (most recent call last)",
      "\u001b[0;32m<ipython-input-3-386b61d4fa63>\u001b[0m in \u001b[0;36m<module>\u001b[0;34m()\u001b[0m\n\u001b[0;32m----> 1\u001b[0;31m \u001b[0mworkflow\u001b[0m\u001b[0;34m.\u001b[0m\u001b[0mtest_submission\u001b[0m\u001b[0;34m(\u001b[0m\u001b[0;34m)\u001b[0m\u001b[0;34m\u001b[0m\u001b[0m\n\u001b[0m",
      "\u001b[0;31mTypeError\u001b[0m: test_submission() missing 2 required positional arguments: 'trained_model' and 'X'"
     ]
    }
   ],
   "source": [
    "workflow.test_submission()"
   ]
  },
  {
   "cell_type": "code",
   "execution_count": null,
   "metadata": {
    "collapsed": true
   },
   "outputs": [],
   "source": []
  },
  {
   "cell_type": "code",
   "execution_count": null,
   "metadata": {
    "collapsed": true
   },
   "outputs": [],
   "source": []
  },
  {
   "cell_type": "code",
   "execution_count": null,
   "metadata": {
    "collapsed": true
   },
   "outputs": [],
   "source": [
    "        folder, X_array = folder_X_array\n",
    "        transform_img, clf = trained_model\n",
    "        it = _chunk_iterator(\n",
    "            X_array, folder=folder, chunk_size=self.chunk_size,\n",
    "            img_file_extension=self.img_file_extension)\n",
    "        y_proba = []\n",
    "        for X in it:\n",
    "            for i in range(0, len(X), self.test_batch_size):\n",
    "                # 1) Preprocessing\n",
    "                X_batch = X[i: i + self.test_batch_size]\n",
    "                # X_batch = Parallel(n_jobs=self.n_jobs, backend='threading')(\n",
    "                #     delayed(transform_img)(x) for x in X_batch)\n",
    "                X_batch = [transform_img(x) for x in X_batch]\n",
    "                # X is a list of numpy arrrays at this point, convert it to a\n",
    "                # single numpy array.\n",
    "                try:\n",
    "                    X_batch = [x[np.newaxis, :, :, :] for x in X_batch]\n",
    "                except IndexError:\n",
    "                    # single channel\n",
    "                    X_batch = [\n",
    "                        x[np.newaxis, np.newaxis, :, :] for x in X_batch]\n",
    "                X_batch = np.concatenate(X_batch, axis=0)\n",
    "\n",
    "                # 2) Prediction\n",
    "                y_proba_batch = clf.predict_proba(X_batch)\n",
    "                y_proba.append(y_proba_batch)\n",
    "        y_proba = np.concatenate(y_proba, axis=0)\n",
    "        return y_proba"
   ]
  },
  {
   "cell_type": "code",
   "execution_count": 1,
   "metadata": {
    "collapsed": true
   },
   "outputs": [],
   "source": [
    "module_path = 'submissions/image_processing'\n",
    "element_names = ['image_preprocessor', 'batch_classifier']"
   ]
  },
  {
   "cell_type": "code",
   "execution_count": 2,
   "metadata": {
    "collapsed": true
   },
   "outputs": [],
   "source": [
    "submitted_batch_classifier_file = '{}/{}.py'.format(\n",
    "            module_path, element_names[1])"
   ]
  },
  {
   "cell_type": "code",
   "execution_count": 3,
   "metadata": {
    "collapsed": true
   },
   "outputs": [],
   "source": [
    "import imp"
   ]
  },
  {
   "cell_type": "code",
   "execution_count": 20,
   "metadata": {},
   "outputs": [],
   "source": [
    "batch_classifier = imp.load_source('', submitted_batch_classifier_file)"
   ]
  },
  {
   "cell_type": "code",
   "execution_count": 21,
   "metadata": {
    "collapsed": true
   },
   "outputs": [],
   "source": [
    "clf = batch_classifier.BatchClassifier()"
   ]
  },
  {
   "cell_type": "code",
   "execution_count": 22,
   "metadata": {},
   "outputs": [],
   "source": [
    "clf = clf.fit(None)"
   ]
  },
  {
   "cell_type": "code",
   "execution_count": 23,
   "metadata": {
    "collapsed": true
   },
   "outputs": [],
   "source": [
    "trained_model = clf"
   ]
  },
  {
   "cell_type": "code",
   "execution_count": 13,
   "metadata": {
    "collapsed": true
   },
   "outputs": [],
   "source": [
    "src = np.load('data/images_quad_77.npy', mmap_mode='r')"
   ]
  },
  {
   "cell_type": "code",
   "execution_count": 14,
   "metadata": {
    "collapsed": true
   },
   "outputs": [],
   "source": [
    "labels = pd.read_csv(\"data/quad77_labels.csv\")"
   ]
  },
  {
   "cell_type": "code",
   "execution_count": 15,
   "metadata": {
    "collapsed": true
   },
   "outputs": [],
   "source": [
    "def _chunk_iterator(X_array, folder, y_array=None, chunk_size=1024, n_jobs=8,\n",
    "                    img_file_extension='png'):\n",
    "    \"\"\"Generate chunks of images, optionally with their labels.\n",
    "\n",
    "    Parameters\n",
    "    ==========\n",
    "\n",
    "    X_array : ArrayContainer of int\n",
    "        image ids to load\n",
    "        (it is named X_array to be coherent with the current API,\n",
    "         but as said here, it does not represent the data itself,\n",
    "         only image IDs).\n",
    "\n",
    "    y_array : vector of int\n",
    "        labels corresponding to each image from X_array\n",
    "\n",
    "    chunk_size : int\n",
    "        chunk size\n",
    "\n",
    "    folder : str\n",
    "        folder where the images are\n",
    "\n",
    "    n_jobs : int\n",
    "        number of jobs used to load images in parallel\n",
    "\n",
    "    Yields\n",
    "    ======\n",
    "\n",
    "    if y_array is provided (not None):\n",
    "        it yields each time a tuple (X, y) where X is a list\n",
    "        of numpy arrays of images and y is a list of ints (labels).\n",
    "        The length of X and y is `chunk_size` at most (it can be smaller).\n",
    "\n",
    "    if y_array is not provided (it is None)\n",
    "        it yields each time X where X is a list of numpy arrays\n",
    "        of images. The length of X is `chunk_size` at most (it can be\n",
    "        smaller).\n",
    "        This is used for testing, where we don't have/need the labels.\n",
    "\n",
    "    The shape of each element of X in both cases\n",
    "    is (height, width, color), where color is 1 or 3 or 4 and height/width\n",
    "    vary according to examples (hence the fact that X is a list instead of\n",
    "    numpy array).\n",
    "    \"\"\"\n",
    "    for i in range(0, len(X_array), chunk_size):\n",
    "        #X_chunk = X_array[i:i + chunk_size]\n",
    "        #filenames = [\n",
    "        #    os.path.join(folder, '{}.{}'.format(x, img_file_extension))\n",
    "        #    for x in X_chunk]\n",
    "        #X = Parallel(n_jobs=n_jobs, backend='threading')(delayed(imread)(\n",
    "        #    filename) for filename in filenames)\n",
    "        X = src[i:i + chunk_size, :, :]\n",
    "        \n",
    "        y = [list(labels[labels.id == '77_{0}'.format(j)][['x_p', 'y_p', 'radius_p']].itertuples(name=None, index=False)) for j in range(i, i+chunk_size)]\n",
    "        \n",
    "        if y_array is not None:\n",
    "            #y = y_array[i:i + chunk_size]\n",
    "            yield X, y\n",
    "        else:\n",
    "            yield X"
   ]
  },
  {
   "cell_type": "code",
   "execution_count": 17,
   "metadata": {},
   "outputs": [],
   "source": [
    "it = _chunk_iterator(np.arange(50), None, chunk_size=20)"
   ]
  },
  {
   "cell_type": "code",
   "execution_count": 56,
   "metadata": {
    "collapsed": true
   },
   "outputs": [],
   "source": [
    "self_test_batch_size = 5"
   ]
  },
  {
   "cell_type": "code",
   "execution_count": 57,
   "metadata": {
    "collapsed": true
   },
   "outputs": [],
   "source": [
    "transform_img = lambda x: x"
   ]
  },
  {
   "cell_type": "code",
   "execution_count": 58,
   "metadata": {
    "scrolled": false
   },
   "outputs": [
    {
     "name": "stdout",
     "output_type": "stream",
     "text": [
      "Max val:  0.0\n",
      "Max val:  0.0\n",
      "Max val:  0.0\n",
      "Max val:  0.4375\n",
      "Max val:  0.4375\n",
      "Max val:  0.515625\n",
      "Max val:  0.515625\n",
      "Max val:  0.4625\n",
      "Max val:  0.46875\n",
      "Max val:  0.4375\n",
      "Max val:  0.375\n",
      "Max val:  0.486111111111\n",
      "Max val:  0.46875\n",
      "Max val:  0.453125\n",
      "Max val:  0.421875\n",
      "Max val:  0.402777777778\n",
      "Max val:  0.347222222222\n",
      "Max val:  0.375\n",
      "Max val:  0.296875\n",
      "Max val:  0.375\n",
      "Max val:  0.40625\n",
      "Max val:  0.390625\n",
      "Max val:  0.359375\n",
      "Max val:  0.375\n",
      "Max val:  0.265625\n",
      "Max val:  0.203125\n",
      "Max val:  0.15625\n",
      "Max val:  0.0\n",
      "Max val:  0.0\n",
      "Max val:  0.0\n",
      "Max val:  0.0\n",
      "Max val:  0.0\n",
      "Max val:  0.0\n",
      "Max val:  0.0\n",
      "Max val:  0.0\n",
      "Max val:  0.0\n",
      "Max val:  0.0\n",
      "Max val:  0.0\n",
      "Max val:  0.0\n",
      "Max val:  0.0\n",
      "Max val:  0.0\n",
      "Max val:  0.0\n",
      "Max val:  0.0\n",
      "Max val:  0.0\n",
      "Max val:  0.0\n",
      "Max val:  0.0\n",
      "Max val:  0.0\n",
      "Max val:  0.0\n",
      "Max val:  0.0\n",
      "Max val:  0.0\n",
      "Max val:  0.0\n",
      "Max val:  0.15625\n",
      "Max val:  0.15625\n",
      "Max val:  0.234375\n",
      "Max val:  0.3\n",
      "Max val:  0.458333333333\n",
      "Max val:  0.359375\n",
      "Max val:  0.325\n",
      "Max val:  0.15625\n",
      "Max val:  0.472222222222\n"
     ]
    }
   ],
   "source": [
    "y_pred = []\n",
    "for X in it:\n",
    "    for i in range(0, X.shape[0], self_test_batch_size):\n",
    "        # 1) Preprocessing\n",
    "        X_batch = X[i: i + self_test_batch_size]\n",
    "        # X_batch = Parallel(n_jobs=self.n_jobs, backend='threading')(\n",
    "        #     delayed(transform_img)(x) for x in X_batch)\n",
    "        X_batch = [transform_img(x) for x in X_batch]\n",
    "        # X is a list of numpy arrrays at this point, convert it to a\n",
    "        # single numpy array.\n",
    "        #try:\n",
    "        #    X_batch = [x[np.newaxis, :, :, :] for x in X_batch]\n",
    "        #except IndexError:\n",
    "        #    # single channel\n",
    "        #    X_batch = [\n",
    "        #        x[np.newaxis, np.newaxis, :, :] for x in X_batch]\n",
    "        #X_batch = np.concatenate(X_batch, axis=0)\n",
    "\n",
    "        # 2) Prediction\n",
    "        y_pred_batch = clf.predict(X_batch)\n",
    "        y_pred.append(y_pred_batch)\n",
    "y_pred = np.concatenate(y_pred, axis=0)\n"
   ]
  },
  {
   "cell_type": "code",
   "execution_count": 16,
   "metadata": {
    "collapsed": true
   },
   "outputs": [],
   "source": [
    "it = _chunk_iterator(np.arange(50), None, y_array=labels, chunk_size=20)"
   ]
  },
  {
   "cell_type": "code",
   "execution_count": 17,
   "metadata": {},
   "outputs": [],
   "source": [
    "y_true = [y for _, y in it]"
   ]
  },
  {
   "cell_type": "code",
   "execution_count": 18,
   "metadata": {},
   "outputs": [],
   "source": [
    "y_true = np.array(y_true).ravel().tolist()"
   ]
  },
  {
   "cell_type": "code",
   "execution_count": 19,
   "metadata": {},
   "outputs": [
    {
     "data": {
      "text/plain": [
       "[[],\n",
       " [],\n",
       " [],\n",
       " [],\n",
       " [],\n",
       " [],\n",
       " [(169.0, 141.0, 9.5999999999999996), (189.0, 109.0, 29.399999999999999)],\n",
       " [],\n",
       " [(167.0, 180.0, 5.25), (138.0, 159.0, 9.0)],\n",
       " [(167.0, 6.0, 5.25)],\n",
       " [],\n",
       " [(103.0, 85.0, 5.5999999999999996)],\n",
       " [],\n",
       " [],\n",
       " [],\n",
       " [(137.0, 91.0, 5.75)],\n",
       " [],\n",
       " [],\n",
       " [],\n",
       " [],\n",
       " [],\n",
       " [],\n",
       " [],\n",
       " [],\n",
       " [],\n",
       " [],\n",
       " [],\n",
       " [],\n",
       " [],\n",
       " [],\n",
       " [],\n",
       " [],\n",
       " [],\n",
       " [],\n",
       " [],\n",
       " [],\n",
       " [],\n",
       " [],\n",
       " [],\n",
       " [],\n",
       " [],\n",
       " [],\n",
       " [],\n",
       " [],\n",
       " [],\n",
       " [],\n",
       " [],\n",
       " [],\n",
       " [],\n",
       " [],\n",
       " [],\n",
       " [],\n",
       " [],\n",
       " [],\n",
       " [],\n",
       " [],\n",
       " [],\n",
       " [],\n",
       " [],\n",
       " [(208.0, 205.0, 12.6)]]"
      ]
     },
     "execution_count": 19,
     "metadata": {},
     "output_type": "execute_result"
    }
   ],
   "source": [
    "y_true"
   ]
  },
  {
   "cell_type": "code",
   "execution_count": 62,
   "metadata": {},
   "outputs": [
    {
     "name": "stdout",
     "output_type": "stream",
     "text": [
      "[] []\n",
      "[] []\n",
      "[] []\n",
      "[] [(166, 56, 10)]\n",
      "[] [(127, 12, 10), (131, 54, 11), (65, 166, 10)]\n",
      "[] [(197, 173, 10), (127, 141, 10), (126, 140, 11), (196, 173, 11), (199, 174, 10)]\n",
      "[(169.0, 141.0, 9.5999999999999996), (189.0, 109.0, 29.399999999999999)] [(23, 173, 10), (153, 139, 10), (22, 173, 11), (154, 147, 10), (25, 174, 10), (115, 94, 11)]\n",
      "[] [(54, 58, 13), (106, 183, 13), (52, 142, 10), (106, 75, 13), (60, 66, 10), (190, 94, 10), (54, 57, 12), (98, 98, 12), (105, 183, 12)]\n",
      "[(167.0, 180.0, 5.25), (138.0, 159.0, 9.0)] [(85, 94, 10), (121, 67, 11), (123, 126, 10), (123, 128, 10), (101, 127, 12), (85, 88, 15), (167, 74, 10), (189, 167, 10), (196, 170, 10), (90, 128, 12), (85, 93, 11)]\n",
      "[(167.0, 6.0, 5.25)] [(136, 79, 10), (108, 108, 10), (57, 171, 10), (61, 181, 10), (22, 170, 10), (64, 173, 10), (15, 181, 10), (114, 133, 12), (100, 116, 11)]\n",
      "[] []\n",
      "[(103.0, 85.0, 5.5999999999999996)] [(70, 182, 11), (69, 183, 10), (54, 185, 10), (55, 186, 12)]\n",
      "[] [(182, 182, 10)]\n",
      "[] [(187, 184, 10)]\n",
      "[] [(13, 184, 10)]\n",
      "[(137.0, 91.0, 5.75)] [(189, 152, 11)]\n",
      "[] []\n",
      "[] []\n",
      "[] []\n",
      "[] []\n",
      "[] [(159, 194, 10)]\n",
      "[] []\n",
      "[] []\n",
      "[] []\n",
      "[] []\n",
      "[] []\n",
      "[] []\n",
      "[] []\n",
      "[] []\n",
      "[] []\n",
      "[] []\n",
      "[] []\n",
      "[] []\n",
      "[] []\n",
      "[] []\n",
      "[] []\n",
      "[] []\n",
      "[] []\n",
      "[] []\n",
      "[] []\n",
      "[] []\n",
      "[] []\n",
      "[] []\n",
      "[] []\n",
      "[] []\n",
      "[] []\n",
      "[] []\n",
      "[] []\n",
      "[] []\n",
      "[] []\n",
      "[] []\n",
      "[] []\n",
      "[] []\n",
      "[] []\n",
      "[] []\n",
      "[] [(145, 208, 11)]\n",
      "[] []\n",
      "[] []\n",
      "[] []\n",
      "[(208.0, 205.0, 12.6)] [(203, 211, 12), (204, 209, 10)]\n"
     ]
    }
   ],
   "source": [
    "for t, p in zip(y_true, y_pred):\n",
    "    print(t, list(p))"
   ]
  },
  {
   "cell_type": "code",
   "execution_count": null,
   "metadata": {
    "collapsed": true
   },
   "outputs": [],
   "source": []
  },
  {
   "cell_type": "code",
   "execution_count": null,
   "metadata": {
    "collapsed": true
   },
   "outputs": [],
   "source": []
  },
  {
   "cell_type": "code",
   "execution_count": null,
   "metadata": {
    "collapsed": true
   },
   "outputs": [],
   "source": []
  }
 ],
 "metadata": {
  "anaconda-cloud": {},
  "kernelspec": {
   "display_name": "Python 3",
   "language": "python",
   "name": "python3"
  },
  "language_info": {
   "codemirror_mode": {
    "name": "ipython",
    "version": 3
   },
   "file_extension": ".py",
   "mimetype": "text/x-python",
   "name": "python",
   "nbconvert_exporter": "python",
   "pygments_lexer": "ipython3",
   "version": "3.5.4"
  },
  "nav_menu": {},
  "toc": {
   "navigate_menu": true,
   "number_sections": true,
   "sideBar": true,
   "threshold": 6,
   "toc_cell": false,
   "toc_section_display": "block",
   "toc_window_display": false
  }
 },
 "nbformat": 4,
 "nbformat_minor": 1
}
