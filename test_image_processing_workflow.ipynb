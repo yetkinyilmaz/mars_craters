{
 "cells": [
  {
   "cell_type": "code",
   "execution_count": 1,
   "metadata": {
    "collapsed": true
   },
   "outputs": [],
   "source": [
    "import os"
   ]
  },
  {
   "cell_type": "code",
   "execution_count": 2,
   "metadata": {},
   "outputs": [],
   "source": [
    "import problem\n",
    "import local_workflow"
   ]
  },
  {
   "cell_type": "code",
   "execution_count": 9,
   "metadata": {},
   "outputs": [],
   "source": [
    "workflow = local_workflow.ObjectDetector(\n",
    "    test_batch_size=16,\n",
    "    chunk_size=50,\n",
    "    n_jobs=8)"
   ]
  },
  {
   "cell_type": "code",
   "execution_count": 10,
   "metadata": {
    "collapsed": true
   },
   "outputs": [],
   "source": [
    "submission = 'image_processing'"
   ]
  },
  {
   "cell_type": "code",
   "execution_count": 11,
   "metadata": {},
   "outputs": [],
   "source": [
    "module_path = os.path.join('.', 'submissions', submission)"
   ]
  },
  {
   "cell_type": "code",
   "execution_count": 12,
   "metadata": {
    "collapsed": true
   },
   "outputs": [],
   "source": [
    "X_train, y_train = problem.get_train_data(path='.')\n",
    "X_test, y_test = problem.get_test_data(path='.')"
   ]
  },
  {
   "cell_type": "code",
   "execution_count": 13,
   "metadata": {},
   "outputs": [],
   "source": [
    "trained_workflow = workflow.train_submission(\n",
    "            module_path, X_train, y_train, train_is=None)"
   ]
  },
  {
   "cell_type": "code",
   "execution_count": 14,
   "metadata": {
    "scrolled": false
   },
   "outputs": [
    {
     "name": "stdout",
     "output_type": "stream",
     "text": [
      "Max val:  0.0\n",
      "Max val:  0.0\n",
      "Max val:  0.0\n",
      "Max val:  0.4375\n",
      "Max val:  0.4375\n",
      "Max val:  0.515625\n",
      "Max val:  0.515625\n",
      "Max val:  0.4625\n",
      "Max val:  0.46875\n",
      "Max val:  0.4375\n",
      "Max val:  0.375\n",
      "Max val:  0.486111111111\n",
      "Max val:  0.46875\n",
      "Max val:  0.453125\n",
      "Max val:  0.421875\n",
      "Max val:  0.402777777778\n",
      "Max val:  0.347222222222\n",
      "Max val:  0.375\n",
      "Max val:  0.296875\n",
      "Max val:  0.375\n",
      "Max val:  0.40625\n",
      "Max val:  0.390625\n",
      "Max val:  0.359375\n",
      "Max val:  0.375\n",
      "Max val:  0.265625\n",
      "Max val:  0.203125\n",
      "Max val:  0.15625\n",
      "Max val:  0.0\n",
      "Max val:  0.0\n",
      "Max val:  0.0\n",
      "Max val:  0.0\n",
      "Max val:  0.0\n",
      "Max val:  0.0\n",
      "Max val:  0.0\n",
      "Max val:  0.0\n",
      "Max val:  0.0\n",
      "Max val:  0.0\n",
      "Max val:  0.0\n",
      "Max val:  0.0\n",
      "Max val:  0.0\n",
      "Max val:  0.0\n",
      "Max val:  0.0\n",
      "Max val:  0.0\n",
      "Max val:  0.0\n",
      "Max val:  0.0\n",
      "Max val:  0.0\n",
      "Max val:  0.0\n",
      "Max val:  0.0\n",
      "Max val:  0.0\n",
      "Max val:  0.0\n",
      "Max val:  0.0\n",
      "Max val:  0.15625\n",
      "Max val:  0.15625\n",
      "Max val:  0.234375\n",
      "Max val:  0.3\n",
      "Max val:  0.458333333333\n",
      "Max val:  0.359375\n",
      "Max val:  0.325\n",
      "Max val:  0.15625\n",
      "Max val:  0.472222222222\n",
      "Max val:  0.5\n",
      "Max val:  0.3125\n",
      "Max val:  0.28125\n",
      "Max val:  0.4375\n",
      "Max val:  0.329545454545\n",
      "Max val:  0.40625\n",
      "Max val:  0.363636363636\n",
      "Max val:  0.546875\n",
      "Max val:  0.390625\n",
      "Max val:  0.203125\n",
      "Max val:  0.359375\n",
      "Max val:  0.390625\n",
      "Max val:  0.375\n",
      "Max val:  0.34375\n",
      "Max val:  0.361111111111\n",
      "Max val:  0.0\n",
      "Max val:  0.0\n",
      "Max val:  0.0\n",
      "Max val:  0.0\n",
      "Max val:  0.0\n",
      "Max val:  0.0\n",
      "Max val:  0.390625\n",
      "Max val:  0.425\n",
      "Max val:  0.421875\n",
      "Max val:  0.5\n",
      "Max val:  0.458333333333\n",
      "Max val:  0.477272727273\n",
      "Max val:  0.458333333333\n",
      "Max val:  0.527777777778\n",
      "Max val:  0.416666666667\n",
      "Max val:  0.546875\n",
      "Max val:  0.453125\n",
      "Max val:  0.430555555556\n",
      "Max val:  0.5\n",
      "Max val:  0.453125\n",
      "Max val:  0.421875\n",
      "Max val:  0.3875\n",
      "Max val:  0.430555555556\n",
      "Max val:  0.609375\n",
      "Max val:  0.4\n"
     ]
    }
   ],
   "source": [
    "y_pred_train = workflow.test_submission(trained_workflow, X_train[:100])"
   ]
  },
  {
   "cell_type": "code",
   "execution_count": 15,
   "metadata": {},
   "outputs": [
    {
     "data": {
      "text/plain": [
       "array([<zip object at 0x7f09973b7d08>, <zip object at 0x7f09973b7c88>,\n",
       "       <zip object at 0x7f09973e6688>, <zip object at 0x7f09974d9208>,\n",
       "       <zip object at 0x7f09973e6748>, <zip object at 0x7f09973e6848>,\n",
       "       <zip object at 0x7f09973e69c8>, <zip object at 0x7f09973b7e48>,\n",
       "       <zip object at 0x7f09973e6808>, <zip object at 0x7f09973e6888>,\n",
       "       <zip object at 0x7f0997777308>, <zip object at 0x7f09973e6788>,\n",
       "       <zip object at 0x7f09973e6988>, <zip object at 0x7f09973b7ac8>,\n",
       "       <zip object at 0x7f09973e6b08>, <zip object at 0x7f09973e6ac8>,\n",
       "       <zip object at 0x7f09973e6e48>, <zip object at 0x7f09973b7e88>,\n",
       "       <zip object at 0x7f09973c1b88>, <zip object at 0x7f09973e66c8>,\n",
       "       <zip object at 0x7f09973e6a88>, <zip object at 0x7f09973e6a48>,\n",
       "       <zip object at 0x7f09973e6b88>, <zip object at 0x7f09973e6948>,\n",
       "       <zip object at 0x7f09973e67c8>, <zip object at 0x7f09973e6fc8>,\n",
       "       <zip object at 0x7f09973c1d08>, <zip object at 0x7f09973e6f88>,\n",
       "       <zip object at 0x7f09974d9408>, <zip object at 0x7f09973e6f48>,\n",
       "       <zip object at 0x7f09973ed088>, <zip object at 0x7f0997770dc8>,\n",
       "       <zip object at 0x7f09973e6d88>, <zip object at 0x7f09973ed0c8>,\n",
       "       <zip object at 0x7f09973ed108>, <zip object at 0x7f09973ed1c8>,\n",
       "       <zip object at 0x7f09973b7cc8>, <zip object at 0x7f09973ed208>,\n",
       "       <zip object at 0x7f09973e68c8>, <zip object at 0x7f09973e6a08>,\n",
       "       <zip object at 0x7f09973e6648>, <zip object at 0x7f09973ed048>,\n",
       "       <zip object at 0x7f09b729b4c8>, <zip object at 0x7f09973ed408>,\n",
       "       <zip object at 0x7f09973e6708>, <zip object at 0x7f09973ed448>,\n",
       "       <zip object at 0x7f09973ed388>, <zip object at 0x7f09973e6908>,\n",
       "       <zip object at 0x7f09973ed488>, <zip object at 0x7f09973ed548>,\n",
       "       <zip object at 0x7f09973ed308>, <zip object at 0x7f09973ed248>,\n",
       "       <zip object at 0x7f09973ed708>, <zip object at 0x7f09973ed6c8>,\n",
       "       <zip object at 0x7f09973ed788>, <zip object at 0x7f09973ed848>,\n",
       "       <zip object at 0x7f09973ed688>, <zip object at 0x7f09973e6dc8>,\n",
       "       <zip object at 0x7f09973ed3c8>, <zip object at 0x7f09973ed7c8>,\n",
       "       <zip object at 0x7f09973ed888>, <zip object at 0x7f09973eda48>,\n",
       "       <zip object at 0x7f09973edb48>, <zip object at 0x7f09973eda08>,\n",
       "       <zip object at 0x7f09973eda88>, <zip object at 0x7f09973ed988>,\n",
       "       <zip object at 0x7f09973ed748>, <zip object at 0x7f09973ed808>,\n",
       "       <zip object at 0x7f09973edbc8>, <zip object at 0x7f09973ed4c8>,\n",
       "       <zip object at 0x7f09973c1188>, <zip object at 0x7f09973ed908>,\n",
       "       <zip object at 0x7f09973e6f08>, <zip object at 0x7f09973ed9c8>,\n",
       "       <zip object at 0x7f09973edc88>, <zip object at 0x7f09973ed148>,\n",
       "       <zip object at 0x7f09973ed8c8>, <zip object at 0x7f09973edcc8>,\n",
       "       <zip object at 0x7f09973ed5c8>, <zip object at 0x7f09973ed508>,\n",
       "       <zip object at 0x7f09973ed2c8>, <zip object at 0x7f09973edec8>,\n",
       "       <zip object at 0x7f09973edc08>, <zip object at 0x7f09973ede08>,\n",
       "       <zip object at 0x7f09973ed948>, <zip object at 0x7f09973ede48>,\n",
       "       <zip object at 0x7f09974d9cc8>, <zip object at 0x7f09973edd88>,\n",
       "       <zip object at 0x7f09973edf88>, <zip object at 0x7f09b70511c8>,\n",
       "       <zip object at 0x7f09973eddc8>, <zip object at 0x7f09b70510c8>,\n",
       "       <zip object at 0x7f09973edf48>, <zip object at 0x7f09b7051108>,\n",
       "       <zip object at 0x7f09973ed608>, <zip object at 0x7f09b7051148>,\n",
       "       <zip object at 0x7f09b7051588>, <zip object at 0x7f09b7051048>,\n",
       "       <zip object at 0x7f09973e6c08>, <zip object at 0x7f09973edfc8>], dtype=object)"
      ]
     },
     "execution_count": 15,
     "metadata": {},
     "output_type": "execute_result"
    }
   ],
   "source": [
    "y_pred_train"
   ]
  },
  {
   "cell_type": "code",
   "execution_count": null,
   "metadata": {
    "collapsed": true
   },
   "outputs": [],
   "source": []
  },
  {
   "cell_type": "code",
   "execution_count": 3,
   "metadata": {},
   "outputs": [
    {
     "ename": "TypeError",
     "evalue": "test_submission() missing 2 required positional arguments: 'trained_model' and 'X'",
     "output_type": "error",
     "traceback": [
      "\u001b[0;31m---------------------------------------------------------------------------\u001b[0m",
      "\u001b[0;31mTypeError\u001b[0m                                 Traceback (most recent call last)",
      "\u001b[0;32m<ipython-input-3-386b61d4fa63>\u001b[0m in \u001b[0;36m<module>\u001b[0;34m()\u001b[0m\n\u001b[0;32m----> 1\u001b[0;31m \u001b[0mworkflow\u001b[0m\u001b[0;34m.\u001b[0m\u001b[0mtest_submission\u001b[0m\u001b[0;34m(\u001b[0m\u001b[0;34m)\u001b[0m\u001b[0;34m\u001b[0m\u001b[0m\n\u001b[0m",
      "\u001b[0;31mTypeError\u001b[0m: test_submission() missing 2 required positional arguments: 'trained_model' and 'X'"
     ]
    }
   ],
   "source": [
    "workflow.test_submission()"
   ]
  },
  {
   "cell_type": "code",
   "execution_count": null,
   "metadata": {
    "collapsed": true
   },
   "outputs": [],
   "source": []
  },
  {
   "cell_type": "code",
   "execution_count": null,
   "metadata": {
    "collapsed": true
   },
   "outputs": [],
   "source": []
  },
  {
   "cell_type": "code",
   "execution_count": null,
   "metadata": {
    "collapsed": true
   },
   "outputs": [],
   "source": [
    "        folder, X_array = folder_X_array\n",
    "        transform_img, clf = trained_model\n",
    "        it = _chunk_iterator(\n",
    "            X_array, folder=folder, chunk_size=self.chunk_size,\n",
    "            img_file_extension=self.img_file_extension)\n",
    "        y_proba = []\n",
    "        for X in it:\n",
    "            for i in range(0, len(X), self.test_batch_size):\n",
    "                # 1) Preprocessing\n",
    "                X_batch = X[i: i + self.test_batch_size]\n",
    "                # X_batch = Parallel(n_jobs=self.n_jobs, backend='threading')(\n",
    "                #     delayed(transform_img)(x) for x in X_batch)\n",
    "                X_batch = [transform_img(x) for x in X_batch]\n",
    "                # X is a list of numpy arrrays at this point, convert it to a\n",
    "                # single numpy array.\n",
    "                try:\n",
    "                    X_batch = [x[np.newaxis, :, :, :] for x in X_batch]\n",
    "                except IndexError:\n",
    "                    # single channel\n",
    "                    X_batch = [\n",
    "                        x[np.newaxis, np.newaxis, :, :] for x in X_batch]\n",
    "                X_batch = np.concatenate(X_batch, axis=0)\n",
    "\n",
    "                # 2) Prediction\n",
    "                y_proba_batch = clf.predict_proba(X_batch)\n",
    "                y_proba.append(y_proba_batch)\n",
    "        y_proba = np.concatenate(y_proba, axis=0)\n",
    "        return y_proba"
   ]
  },
  {
   "cell_type": "code",
   "execution_count": 1,
   "metadata": {
    "collapsed": true
   },
   "outputs": [],
   "source": [
    "module_path = 'submissions/image_processing'\n",
    "element_names = ['image_preprocessor', 'batch_classifier']"
   ]
  },
  {
   "cell_type": "code",
   "execution_count": 2,
   "metadata": {
    "collapsed": true
   },
   "outputs": [],
   "source": [
    "submitted_batch_classifier_file = '{}/{}.py'.format(\n",
    "            module_path, element_names[1])"
   ]
  },
  {
   "cell_type": "code",
   "execution_count": 3,
   "metadata": {
    "collapsed": true
   },
   "outputs": [],
   "source": [
    "import imp"
   ]
  },
  {
   "cell_type": "code",
   "execution_count": 20,
   "metadata": {},
   "outputs": [],
   "source": [
    "batch_classifier = imp.load_source('', submitted_batch_classifier_file)"
   ]
  },
  {
   "cell_type": "code",
   "execution_count": 21,
   "metadata": {
    "collapsed": true
   },
   "outputs": [],
   "source": [
    "clf = batch_classifier.BatchClassifier()"
   ]
  },
  {
   "cell_type": "code",
   "execution_count": 22,
   "metadata": {},
   "outputs": [],
   "source": [
    "clf = clf.fit(None)"
   ]
  },
  {
   "cell_type": "code",
   "execution_count": 23,
   "metadata": {
    "collapsed": true
   },
   "outputs": [],
   "source": [
    "trained_model = clf"
   ]
  },
  {
   "cell_type": "code",
   "execution_count": 24,
   "metadata": {
    "collapsed": true
   },
   "outputs": [],
   "source": [
    "src = np.load('data/images_quad_77.npy', mmap_mode='r')"
   ]
  },
  {
   "cell_type": "code",
   "execution_count": 25,
   "metadata": {
    "collapsed": true
   },
   "outputs": [],
   "source": [
    "labels = pd.read_csv(\"data/quad77_labels.csv\")"
   ]
  },
  {
   "cell_type": "code",
   "execution_count": 26,
   "metadata": {
    "collapsed": true
   },
   "outputs": [],
   "source": [
    "def _chunk_iterator(X_array, folder, y_array=None, chunk_size=1024, n_jobs=8,\n",
    "                    img_file_extension='png'):\n",
    "    \"\"\"Generate chunks of images, optionally with their labels.\n",
    "\n",
    "    Parameters\n",
    "    ==========\n",
    "\n",
    "    X_array : ArrayContainer of int\n",
    "        image ids to load\n",
    "        (it is named X_array to be coherent with the current API,\n",
    "         but as said here, it does not represent the data itself,\n",
    "         only image IDs).\n",
    "\n",
    "    y_array : vector of int\n",
    "        labels corresponding to each image from X_array\n",
    "\n",
    "    chunk_size : int\n",
    "        chunk size\n",
    "\n",
    "    folder : str\n",
    "        folder where the images are\n",
    "\n",
    "    n_jobs : int\n",
    "        number of jobs used to load images in parallel\n",
    "\n",
    "    Yields\n",
    "    ======\n",
    "\n",
    "    if y_array is provided (not None):\n",
    "        it yields each time a tuple (X, y) where X is a list\n",
    "        of numpy arrays of images and y is a list of ints (labels).\n",
    "        The length of X and y is `chunk_size` at most (it can be smaller).\n",
    "\n",
    "    if y_array is not provided (it is None)\n",
    "        it yields each time X where X is a list of numpy arrays\n",
    "        of images. The length of X is `chunk_size` at most (it can be\n",
    "        smaller).\n",
    "        This is used for testing, where we don't have/need the labels.\n",
    "\n",
    "    The shape of each element of X in both cases\n",
    "    is (height, width, color), where color is 1 or 3 or 4 and height/width\n",
    "    vary according to examples (hence the fact that X is a list instead of\n",
    "    numpy array).\n",
    "    \"\"\"\n",
    "    for i in range(0, len(X_array), chunk_size):\n",
    "        #X_chunk = X_array[i:i + chunk_size]\n",
    "        #filenames = [\n",
    "        #    os.path.join(folder, '{}.{}'.format(x, img_file_extension))\n",
    "        #    for x in X_chunk]\n",
    "        #X = Parallel(n_jobs=n_jobs, backend='threading')(delayed(imread)(\n",
    "        #    filename) for filename in filenames)\n",
    "        X = src[i:i + chunk_size, :, :]\n",
    "        \n",
    "        y = [list(labels[labels.id == '77_{0}'.format(j)][['x_p', 'y_p', 'radius_p']].itertuples(name=None, index=False)) for j in range(i, i+chunk_size)]\n",
    "        \n",
    "        if y_array is not None:\n",
    "            #y = y_array[i:i + chunk_size]\n",
    "            yield X, y\n",
    "        else:\n",
    "            yield X"
   ]
  },
  {
   "cell_type": "code",
   "execution_count": 55,
   "metadata": {},
   "outputs": [],
   "source": [
    "it = _chunk_iterator(np.arange(50), None, chunk_size=20)"
   ]
  },
  {
   "cell_type": "code",
   "execution_count": 56,
   "metadata": {
    "collapsed": true
   },
   "outputs": [],
   "source": [
    "self_test_batch_size = 5"
   ]
  },
  {
   "cell_type": "code",
   "execution_count": 57,
   "metadata": {
    "collapsed": true
   },
   "outputs": [],
   "source": [
    "transform_img = lambda x: x"
   ]
  },
  {
   "cell_type": "code",
   "execution_count": 58,
   "metadata": {
    "scrolled": false
   },
   "outputs": [
    {
     "name": "stdout",
     "output_type": "stream",
     "text": [
      "Max val:  0.0\n",
      "Max val:  0.0\n",
      "Max val:  0.0\n",
      "Max val:  0.4375\n",
      "Max val:  0.4375\n",
      "Max val:  0.515625\n",
      "Max val:  0.515625\n",
      "Max val:  0.4625\n",
      "Max val:  0.46875\n",
      "Max val:  0.4375\n",
      "Max val:  0.375\n",
      "Max val:  0.486111111111\n",
      "Max val:  0.46875\n",
      "Max val:  0.453125\n",
      "Max val:  0.421875\n",
      "Max val:  0.402777777778\n",
      "Max val:  0.347222222222\n",
      "Max val:  0.375\n",
      "Max val:  0.296875\n",
      "Max val:  0.375\n",
      "Max val:  0.40625\n",
      "Max val:  0.390625\n",
      "Max val:  0.359375\n",
      "Max val:  0.375\n",
      "Max val:  0.265625\n",
      "Max val:  0.203125\n",
      "Max val:  0.15625\n",
      "Max val:  0.0\n",
      "Max val:  0.0\n",
      "Max val:  0.0\n",
      "Max val:  0.0\n",
      "Max val:  0.0\n",
      "Max val:  0.0\n",
      "Max val:  0.0\n",
      "Max val:  0.0\n",
      "Max val:  0.0\n",
      "Max val:  0.0\n",
      "Max val:  0.0\n",
      "Max val:  0.0\n",
      "Max val:  0.0\n",
      "Max val:  0.0\n",
      "Max val:  0.0\n",
      "Max val:  0.0\n",
      "Max val:  0.0\n",
      "Max val:  0.0\n",
      "Max val:  0.0\n",
      "Max val:  0.0\n",
      "Max val:  0.0\n",
      "Max val:  0.0\n",
      "Max val:  0.0\n",
      "Max val:  0.0\n",
      "Max val:  0.15625\n",
      "Max val:  0.15625\n",
      "Max val:  0.234375\n",
      "Max val:  0.3\n",
      "Max val:  0.458333333333\n",
      "Max val:  0.359375\n",
      "Max val:  0.325\n",
      "Max val:  0.15625\n",
      "Max val:  0.472222222222\n"
     ]
    }
   ],
   "source": [
    "y_pred = []\n",
    "for X in it:\n",
    "    for i in range(0, X.shape[0], self_test_batch_size):\n",
    "        # 1) Preprocessing\n",
    "        X_batch = X[i: i + self_test_batch_size]\n",
    "        # X_batch = Parallel(n_jobs=self.n_jobs, backend='threading')(\n",
    "        #     delayed(transform_img)(x) for x in X_batch)\n",
    "        X_batch = [transform_img(x) for x in X_batch]\n",
    "        # X is a list of numpy arrrays at this point, convert it to a\n",
    "        # single numpy array.\n",
    "        #try:\n",
    "        #    X_batch = [x[np.newaxis, :, :, :] for x in X_batch]\n",
    "        #except IndexError:\n",
    "        #    # single channel\n",
    "        #    X_batch = [\n",
    "        #        x[np.newaxis, np.newaxis, :, :] for x in X_batch]\n",
    "        #X_batch = np.concatenate(X_batch, axis=0)\n",
    "\n",
    "        # 2) Prediction\n",
    "        y_pred_batch = clf.predict(X_batch)\n",
    "        y_pred.append(y_pred_batch)\n",
    "y_pred = np.concatenate(y_pred, axis=0)\n"
   ]
  },
  {
   "cell_type": "code",
   "execution_count": 59,
   "metadata": {
    "collapsed": true
   },
   "outputs": [],
   "source": [
    "it = _chunk_iterator(np.arange(50), None, y_array=labels, chunk_size=20)"
   ]
  },
  {
   "cell_type": "code",
   "execution_count": 60,
   "metadata": {},
   "outputs": [],
   "source": [
    "y_true = [y for _, y in it]"
   ]
  },
  {
   "cell_type": "code",
   "execution_count": 61,
   "metadata": {},
   "outputs": [],
   "source": [
    "y_true = np.array(y_true).ravel().tolist()"
   ]
  },
  {
   "cell_type": "code",
   "execution_count": 62,
   "metadata": {},
   "outputs": [
    {
     "name": "stdout",
     "output_type": "stream",
     "text": [
      "[] []\n",
      "[] []\n",
      "[] []\n",
      "[] [(166, 56, 10)]\n",
      "[] [(127, 12, 10), (131, 54, 11), (65, 166, 10)]\n",
      "[] [(197, 173, 10), (127, 141, 10), (126, 140, 11), (196, 173, 11), (199, 174, 10)]\n",
      "[(169.0, 141.0, 9.5999999999999996), (189.0, 109.0, 29.399999999999999)] [(23, 173, 10), (153, 139, 10), (22, 173, 11), (154, 147, 10), (25, 174, 10), (115, 94, 11)]\n",
      "[] [(54, 58, 13), (106, 183, 13), (52, 142, 10), (106, 75, 13), (60, 66, 10), (190, 94, 10), (54, 57, 12), (98, 98, 12), (105, 183, 12)]\n",
      "[(167.0, 180.0, 5.25), (138.0, 159.0, 9.0)] [(85, 94, 10), (121, 67, 11), (123, 126, 10), (123, 128, 10), (101, 127, 12), (85, 88, 15), (167, 74, 10), (189, 167, 10), (196, 170, 10), (90, 128, 12), (85, 93, 11)]\n",
      "[(167.0, 6.0, 5.25)] [(136, 79, 10), (108, 108, 10), (57, 171, 10), (61, 181, 10), (22, 170, 10), (64, 173, 10), (15, 181, 10), (114, 133, 12), (100, 116, 11)]\n",
      "[] []\n",
      "[(103.0, 85.0, 5.5999999999999996)] [(70, 182, 11), (69, 183, 10), (54, 185, 10), (55, 186, 12)]\n",
      "[] [(182, 182, 10)]\n",
      "[] [(187, 184, 10)]\n",
      "[] [(13, 184, 10)]\n",
      "[(137.0, 91.0, 5.75)] [(189, 152, 11)]\n",
      "[] []\n",
      "[] []\n",
      "[] []\n",
      "[] []\n",
      "[] [(159, 194, 10)]\n",
      "[] []\n",
      "[] []\n",
      "[] []\n",
      "[] []\n",
      "[] []\n",
      "[] []\n",
      "[] []\n",
      "[] []\n",
      "[] []\n",
      "[] []\n",
      "[] []\n",
      "[] []\n",
      "[] []\n",
      "[] []\n",
      "[] []\n",
      "[] []\n",
      "[] []\n",
      "[] []\n",
      "[] []\n",
      "[] []\n",
      "[] []\n",
      "[] []\n",
      "[] []\n",
      "[] []\n",
      "[] []\n",
      "[] []\n",
      "[] []\n",
      "[] []\n",
      "[] []\n",
      "[] []\n",
      "[] []\n",
      "[] []\n",
      "[] []\n",
      "[] []\n",
      "[] [(145, 208, 11)]\n",
      "[] []\n",
      "[] []\n",
      "[] []\n",
      "[(208.0, 205.0, 12.6)] [(203, 211, 12), (204, 209, 10)]\n"
     ]
    }
   ],
   "source": [
    "for t, p in zip(y_true, y_pred):\n",
    "    print(t, list(p))"
   ]
  },
  {
   "cell_type": "code",
   "execution_count": null,
   "metadata": {
    "collapsed": true
   },
   "outputs": [],
   "source": []
  },
  {
   "cell_type": "code",
   "execution_count": null,
   "metadata": {
    "collapsed": true
   },
   "outputs": [],
   "source": []
  },
  {
   "cell_type": "code",
   "execution_count": null,
   "metadata": {
    "collapsed": true
   },
   "outputs": [],
   "source": []
  }
 ],
 "metadata": {
  "anaconda-cloud": {},
  "kernelspec": {
   "display_name": "Python 3",
   "language": "python",
   "name": "python3"
  },
  "language_info": {
   "codemirror_mode": {
    "name": "ipython",
    "version": 3
   },
   "file_extension": ".py",
   "mimetype": "text/x-python",
   "name": "python",
   "nbconvert_exporter": "python",
   "pygments_lexer": "ipython3",
   "version": "3.5.4"
  },
  "nav_menu": {},
  "toc": {
   "navigate_menu": true,
   "number_sections": true,
   "sideBar": true,
   "threshold": 6,
   "toc_cell": false,
   "toc_section_display": "block",
   "toc_window_display": false
  }
 },
 "nbformat": 4,
 "nbformat_minor": 1
}
