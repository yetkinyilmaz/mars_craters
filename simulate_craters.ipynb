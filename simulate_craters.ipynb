{
 "cells": [
  {
   "cell_type": "code",
   "execution_count": 12,
   "metadata": {},
   "outputs": [],
   "source": [
    "%matplotlib inline\n",
    "\n",
    "import numpy as np\n",
    "import matplotlib.pyplot as plt\n",
    "from workflow.scores.ospa import score_craters_on_patch\n",
    "from workflow.scores.mask import mask_detection"
   ]
  },
  {
   "cell_type": "code",
   "execution_count": 13,
   "metadata": {
    "collapsed": true
   },
   "outputs": [],
   "source": [
    "nt = 8\n",
    "margin = 20.\n",
    "patch = 224.\n",
    "rmax = 60.\n",
    "rmin = 2.\n",
    "\n",
    "resx = 0.9\n",
    "resr = 0.9\n",
    "\n",
    "eff = 0.9\n",
    "fake = 0.1\n",
    "dup = 0.5\n",
    "\n",
    "ct = 'g'\n",
    "cp = 'r'"
   ]
  },
  {
   "cell_type": "code",
   "execution_count": 14,
   "metadata": {
    "collapsed": true
   },
   "outputs": [],
   "source": [
    "# Simulate true craters\n",
    "xt = (patch+2*margin)*np.random.random(nt)-margin\n",
    "yt = (patch+2*margin)*np.random.random(nt)-margin\n",
    "rt = np.abs((rmax-rmin)*np.random.random(nt)-rmin)"
   ]
  },
  {
   "cell_type": "code",
   "execution_count": 15,
   "metadata": {
    "collapsed": true
   },
   "outputs": [],
   "source": [
    "# Simulate detected craters, drop some\n",
    "xp = (xt+rt*2.*resx*(np.random.random(nt)-0.5))[:int(nt*eff)]\n",
    "yp = (yt+rt*2.*resx*(np.random.random(nt)-0.5))[:int(nt*eff)]\n",
    "rp = np.abs((rt+2.*resr*(np.random.random(nt)-0.5))[:int(nt*eff)])\n",
    "\n",
    "# Add fake detected craters\n",
    "xp = np.append(xp,(patch+2*margin)*np.random.random(int(nt*fake))-margin,0)\n",
    "yp = np.append(yp,(patch+2*margin)*np.random.random(int(nt*fake))-margin,0)\n",
    "rp = np.abs(np.append(rp,(rmax-rmin)*np.random.random(int(nt*fake))-margin,0))\n",
    "\n",
    "# Add duplicate craters\n",
    "xp = np.append(xp,(xt+rt*2.*resx*(np.random.random(nt)-0.5))[:int(nt*eff)-int(nt*(1.-dup))])\n",
    "yp = np.append(yp,(yt+rt*2.*resx*(np.random.random(nt)-0.5))[:int(nt*eff)-int(nt*(1.-dup))])\n",
    "rp = np.abs(np.append(rp,(rt+2.*resr*(np.random.random(nt)-0.5))[:int(nt*eff)-int(nt*(1.-dup))]))\n"
   ]
  },
  {
   "cell_type": "code",
   "execution_count": 16,
   "metadata": {},
   "outputs": [
    {
     "data": {
      "image/png": "[encoded data removed]",
      "text/plain": [
       "<matplotlib.figure.Figure at 0x10785a668>"
      ]
     },
     "metadata": {},
     "output_type": "display_data"
    }
   ],
   "source": [
    "ax = plt.gca()\n",
    "ax.cla() # clear things for fresh plot\n",
    "\n",
    "detectpatch = plt.Rectangle((0,0), patch, patch, fill=False, linestyle = 'dashed')\n",
    "ax.add_artist(detectpatch)\n",
    "\n",
    "scorepatch = plt.Rectangle((patch/4, patch/4), patch/2, patch/2, fill=False, linestyle = 'dotted')\n",
    "ax.add_artist(scorepatch)\n",
    "\n",
    "for (x,y),r in zip(zip(xt,yt),rt):\n",
    "    circle = plt.Circle((x, y), r, fill=False,color=ct)\n",
    "    ax.add_artist(circle)\n",
    "    \n",
    "for (x,y),r in zip(zip(xp,yp),rp):\n",
    "    circle = plt.Circle((x, y), r, fill=False,color=cp)\n",
    "    ax.add_artist(circle)\n",
    "\n",
    "plt.axes().set_aspect('equal')\n",
    "ax.set_xlim([-2*margin,patch+2*margin])\n",
    "ax.set_ylim([-2*margin,patch+2*margin])\n",
    "plt.show()  \n"
   ]
  },
  {
   "cell_type": "code",
   "execution_count": 17,
   "metadata": {
    "collapsed": true
   },
   "outputs": [],
   "source": [
    "# Combine columns\n",
    "y_true = np.array([xt,yt,rt]).T\n",
    "y_pred = np.array([xp,yp,rp]).T"
   ]
  },
  {
   "cell_type": "code",
   "execution_count": 18,
   "metadata": {},
   "outputs": [],
   "source": [
    "# Strip edges\n",
    "y_true = y_true[(y_true[:,0]>= 56) & (y_true[:,0] < 168) & (y_true[:,1]>= 56) & (y_true[:,1] < 168)]\n",
    "y_pred = y_pred[(y_pred[:,0]>= 56) & (y_pred[:,0] < 168) & (y_pred[:,1]>= 56) & (y_pred[:,1] < 168)]"
   ]
  },
  {
   "cell_type": "code",
   "execution_count": 19,
   "metadata": {},
   "outputs": [
    {
     "data": {
      "text/plain": [
       "0.97583207561085283"
      ]
     },
     "execution_count": 19,
     "metadata": {},
     "output_type": "execute_result"
    }
   ],
   "source": [
    "# Score\n",
    "score_craters_on_patch(y_true,y_pred)"
   ]
  },
  {
   "cell_type": "code",
   "execution_count": 20,
   "metadata": {},
   "outputs": [
    {
     "data": {
      "text/plain": [
       "0.97583207561085283"
      ]
     },
     "execution_count": 20,
     "metadata": {},
     "output_type": "execute_result"
    }
   ],
   "source": [
    "score_craters_on_patch(y_pred,y_true)"
   ]
  },
  {
   "cell_type": "code",
   "execution_count": 21,
   "metadata": {},
   "outputs": [
    {
     "data": {
      "text/plain": [
       "0.78027812895069548"
      ]
     },
     "execution_count": 21,
     "metadata": {},
     "output_type": "execute_result"
    }
   ],
   "source": [
    "mask_detection(y_true,y_pred)"
   ]
  },
  {
   "cell_type": "code",
   "execution_count": 22,
   "metadata": {},
   "outputs": [
    {
     "data": {
      "text/plain": [
       "0.78027812895069548"
      ]
     },
     "execution_count": 22,
     "metadata": {},
     "output_type": "execute_result"
    }
   ],
   "source": [
    "mask_detection(y_pred,y_true)"
   ]
  },
  {
   "cell_type": "code",
   "execution_count": null,
   "metadata": {
    "collapsed": true
   },
   "outputs": [],
   "source": []
  },
  {
   "cell_type": "code",
   "execution_count": null,
   "metadata": {
    "collapsed": true
   },
   "outputs": [],
   "source": []
  },
  {
   "cell_type": "code",
   "execution_count": null,
   "metadata": {
    "collapsed": true
   },
   "outputs": [],
   "source": []
  },
  {
   "cell_type": "code",
   "execution_count": null,
   "metadata": {
    "collapsed": true
   },
   "outputs": [],
   "source": []
  }
 ],
 "metadata": {
  "kernelspec": {
   "display_name": "Python 3",
   "language": "python",
   "name": "python3"
  },
  "language_info": {
   "codemirror_mode": {
    "name": "ipython",
    "version": 3
   },
   "file_extension": ".py",
   "mimetype": "text/x-python",
   "name": "python",
   "nbconvert_exporter": "python",
   "pygments_lexer": "ipython3",
   "version": "3.6.1"
  }
 },
 "nbformat": 4,
 "nbformat_minor": 2
}
